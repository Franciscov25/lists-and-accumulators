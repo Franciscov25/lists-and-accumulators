{
 "cells": [
  {
   "cell_type": "code",
   "execution_count": 2,
   "metadata": {},
   "outputs": [
    {
     "name": "stdout",
     "output_type": "stream",
     "text": [
      "O valor total da compra é 25.0\n",
      "A média da compra é 5.0\n"
     ]
    }
   ],
   "source": [
    "# Valor total da compra & média da compra\n",
    "\n",
    "lista_produtos = []\n",
    "soma = 0\n",
    "\n",
    "for k in range(5):\n",
    "    produto = float(input(\"Digite o valor do produto:\"))\n",
    "    lista_produtos.append(produto)\n",
    "\n",
    "for produto in lista_produtos:\n",
    "    soma += produto\n",
    "    media = soma / len(lista_produtos)\n",
    "print(\"O valor total da compra é\",soma)\n",
    "print(\"A média da compra é\",media)"
   ]
  },
  {
   "cell_type": "code",
   "execution_count": 1,
   "metadata": {},
   "outputs": [
    {
     "name": "stdout",
     "output_type": "stream",
     "text": [
      "2.5\n"
     ]
    }
   ],
   "source": [
    "# Sabendo que o mercado está dando 90% de desconto em cada produto, qual será o valor total a ser pago pelo cliente?\n",
    "# Neste caso, estou retornando ao usuário o valor total já com desconto aplicado\n",
    "\n",
    "lista_produtos = []\n",
    "valor_total = 0\n",
    "\n",
    "for k in range(5):\n",
    "    produto = float(input(\"Digite o valor do produto:\"))\n",
    "    lista_produtos.append(produto)\n",
    "\n",
    "for produto in range(len(lista_produtos)):\n",
    "    lista_produtos[produto] *= 0.1\n",
    "\n",
    "for produto in lista_produtos:\n",
    "    valor_total += produto\n",
    "print(valor_total)"
   ]
  }
 ],
 "metadata": {
  "kernelspec": {
   "display_name": "Python 3",
   "language": "python",
   "name": "python3"
  },
  "language_info": {
   "codemirror_mode": {
    "name": "ipython",
    "version": 3
   },
   "file_extension": ".py",
   "mimetype": "text/x-python",
   "name": "python",
   "nbconvert_exporter": "python",
   "pygments_lexer": "ipython3",
   "version": "3.12.6"
  }
 },
 "nbformat": 4,
 "nbformat_minor": 2
}
